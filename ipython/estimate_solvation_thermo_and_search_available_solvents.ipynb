{
 "cells": [
  {
   "cell_type": "markdown",
   "metadata": {},
   "source": [
    "# Estimate Solvation Thermo\n",
    "\n",
    "This script estimates solvation thermo (solute parameters, solvation free energy, and solvation enthalpy). It first checks whether the values can be found from the solute library, and if not, it uses the group additivity approach to estimate the solute parameters and solvation properties. Read documentation on solvation thermochemistry for detailed method (http://reactionmechanismgenerator.github.io/RMG-Py/users/rmg/liquids.html).\n",
    "\n",
    "You can also look up available solvents in RMG using a SMILES string with this script.\n",
    "\n",
    "Code written by Yunsie Chung"
   ]
  },
  {
   "cell_type": "code",
   "execution_count": null,
   "metadata": {},
   "outputs": [],
   "source": [
    "import os.path\n",
    "from rmgpy import settings\n",
    "from rmgpy.rmg.main import Species\n",
    "from rmgpy.data.solvation import SolvationDatabase\n",
    "\n",
    "solvationDatabase = SolvationDatabase()\n",
    "solvationDatabase.load(os.path.join(settings['database.directory'], 'solvation'))"
   ]
  },
  {
   "cell_type": "markdown",
   "metadata": {},
   "source": [
    "## Search for available solvents using a SMILES string"
   ]
  },
  {
   "cell_type": "code",
   "execution_count": null,
   "metadata": {},
   "outputs": [],
   "source": [
    "def print_find_solvent_results(match_list):\n",
    "    dGsolv_param_list = ['e_g', 's_g', 'a_g', 'b_g', 'l_g', 'c_g']\n",
    "    dHsolv_param_list = ['e_h', 's_h', 'a_h', 'b_h', 'l_h', 'c_h']\n",
    "    viscosity_param_list = ['A', 'B', 'C', 'D', 'E']\n",
    "    if len(match_list) == 0:\n",
    "        print('No matching solvent is found in the RMG solvent library')\n",
    "    else:\n",
    "        count = 1\n",
    "        for label, entry in match_list:\n",
    "            print(f'Matched Solvent {count}: {label}')\n",
    "            solven_data = entry.data\n",
    "            if solven_data.e_g is None:\n",
    "                print('- Solvation free energy calculation is not availble for this solvent.')\n",
    "            else:\n",
    "                print('- Solvation free energy calculation is available. The relevant Abraham solvent parameters are:')\n",
    "                print(f'\\te_g = {solven_data.e_g}, s_g = {solven_data.s_g}, a_g = {solven_data.a_g}, \\\n",
    "b_g = {solven_data.b_g}, l_g = {solven_data.l_g}, c_g = {solven_data.c_g}')\n",
    "            if solven_data.e_h is None:\n",
    "                print('- Solvation enthalpy calculation is not availble for this solvent.')\n",
    "            else:\n",
    "                print('- Solvation enthalpy calculation is available. The relevant Mintz solvent parameters are:')\n",
    "                print(f'\\te_h = {solven_data.e_h}, s_h = {solven_data.s_h}, a_h = {solven_data.a_h}, \\\n",
    "b_h = {solven_data.b_h}, l_h = {solven_data.l_h}, c_h = {solven_data.c_h}')\n",
    "            if solven_data.A is None:\n",
    "                print('- Viscosity is not availble for this solvent.')\n",
    "            else:\n",
    "                print('- Viscosity calculation is available. The relevant viscosity parameters are:')\n",
    "                print(f'\\tA = {solven_data.A}, B = {solven_data.B}, C = {solven_data.C}, \\\n",
    "D = {solven_data.D}, E = {solven_data.E}')\n",
    "            print('')\n",
    "            count += 1"
   ]
  },
  {
   "cell_type": "code",
   "execution_count": null,
   "metadata": {},
   "outputs": [],
   "source": [
    "# Example 1.\n",
    "\n",
    "########### Input your SMILES string below ###############################\n",
    "\n",
    "solvent_smiles = 'NC=O'\n",
    "\n",
    "##########################################################################\n",
    "\n",
    "match_list = solvationDatabase.find_solvent_from_smiles(solvent_smiles)\n",
    "print_find_solvent_results(match_list)"
   ]
  },
  {
   "cell_type": "code",
   "execution_count": null,
   "metadata": {},
   "outputs": [],
   "source": [
    "# Example 2.\n",
    "\n",
    "########### Input your SMILES string below ###############################\n",
    "\n",
    "solvent_smiles = 'ClC=CCl'\n",
    "\n",
    "##########################################################################\n",
    "\n",
    "match_list = solvationDatabase.find_solvent_from_smiles(solvent_smiles)\n",
    "print_find_solvent_results(match_list)"
   ]
  },
  {
   "cell_type": "code",
   "execution_count": null,
   "metadata": {},
   "outputs": [],
   "source": [
    "# Example 3.\n",
    "\n",
    "########### Input your SMILES string below ###############################\n",
    "\n",
    "solvent_smiles = 'C(CCl)O'\n",
    "\n",
    "##########################################################################\n",
    "\n",
    "match_list = solvationDatabase.find_solvent_from_smiles(solvent_smiles)\n",
    "print_find_solvent_results(match_list)"
   ]
  },
  {
   "cell_type": "code",
   "execution_count": null,
   "metadata": {},
   "outputs": [],
   "source": [
    "# Example 4.\n",
    "\n",
    "########### Input your SMILES string below ###############################\n",
    "\n",
    "solvent_smiles = 'O'\n",
    "\n",
    "##########################################################################\n",
    "\n",
    "match_list = solvationDatabase.find_solvent_from_smiles(solvent_smiles)\n",
    "print_find_solvent_results(match_list)"
   ]
  },
  {
   "cell_type": "markdown",
   "metadata": {},
   "source": [
    "## Estimate solute parameters, solvation energy, and solvation enthalpy from solute SMILES and solvent label"
   ]
  },
  {
   "cell_type": "code",
   "execution_count": null,
   "metadata": {},
   "outputs": [],
   "source": [
    "# Example 1.\n",
    "\n",
    "########### Input your solute SMILES string and solvent label below ###############################\n",
    "\n",
    "solute_smiles = 'CCCCOC(=O)C1=CC=CC=C1C(=O)OCC2=CC=CC=C2'\n",
    "solvent_label = 'water'\n",
    "\n",
    "###################################################################################################\n",
    "\n",
    "solute_spc = Species().from_smiles(solute_smiles)\n",
    "solute_spc.generate_resonance_structures()\n",
    "solute_data = solvationDatabase.get_solute_data_from_groups(solute_spc)\n",
    "solvent_data = solvationDatabase.get_solvent_data(solvent_label)\n",
    "\n",
    "print(f'Estimated solute parameters are:')\n",
    "print(solute_data)\n",
    "\n",
    "try:\n",
    "    dGsolv = '%.2f' % (solvationDatabase.calc_g(solute_data, solvent_data) / 4184) # in kcal/mol\n",
    "    print(f'\\nEstimated solvation free energy at 298 K is : {dGsolv} kcal/mol')\n",
    "except:\n",
    "    print(f'\\nSolvation free energy cannot be calculated because {solvent_label} does not have \\\n",
    "Abraham solvent parameters.')\n",
    "    \n",
    "try:\n",
    "    dHsolv = '%.2f' % (solvationDatabase.calc_h(solute_data, solvent_data) / 4184) # in kcal/mol\n",
    "    print(f'\\nEstimated solvation enthalpy at 298 K is : {dHsolv} kcal/mol')\n",
    "except:\n",
    "    print(f'\\nSolvation enthalpy cannot be calculated because {solvent_label} does not have \\\n",
    "Mintz solvent parameters.')"
   ]
  },
  {
   "cell_type": "code",
   "execution_count": null,
   "metadata": {},
   "outputs": [],
   "source": [
    "# Example 2.\n",
    "\n",
    "########### Input your solute SMILES string and solvent label below ###############################\n",
    "\n",
    "solute_smiles = 'C1=CC(=CC(=C1)Cl)N'\n",
    "solvent_label = 'trans-1,2-dichloroethene'\n",
    "\n",
    "###################################################################################################\n",
    "\n",
    "solute_spc = Species().from_smiles(solute_smiles)\n",
    "solute_spc.generate_resonance_structures()\n",
    "solute_data = solvationDatabase.get_solute_data_from_groups(solute_spc)\n",
    "solvent_data = solvationDatabase.get_solvent_data(solvent_label)\n",
    "\n",
    "print(f'Estimated solute parameters are:')\n",
    "print(solute_data)\n",
    "\n",
    "try:\n",
    "    dGsolv = '%.2f' % (solvationDatabase.calc_g(solute_data, solvent_data) / 4184) # in kcal/mol\n",
    "    print(f'\\nEstimated solvation free energy at 298 K is : {dGsolv} kcal/mol')\n",
    "except:\n",
    "    print(f'\\nSolvation free energy cannot be calculated because {solvent_label} does not have \\\n",
    "Abraham solvent parameters.')\n",
    "    \n",
    "try:\n",
    "    dHsolv = '%.2f' % (solvationDatabase.calc_h(solute_data, solvent_data) / 4184) # in kcal/mol\n",
    "    print(f'\\nEstimated solvation enthalpy at 298 K is : {dHsolv} kcal/mol')\n",
    "except:\n",
    "    print(f'\\nSolvation enthalpy cannot be calculated because {solvent_label} does not have \\\n",
    "Mintz solvent parameters.')"
   ]
  }
 ],
 "metadata": {
  "kernelspec": {
   "display_name": "Python 3",
   "language": "python",
   "name": "python3"
  },
  "language_info": {
   "codemirror_mode": {
    "name": "ipython",
    "version": 3
   },
   "file_extension": ".py",
   "mimetype": "text/x-python",
   "name": "python",
   "nbconvert_exporter": "python",
   "pygments_lexer": "ipython3",
   "version": "3.7.10"
  }
 },
 "nbformat": 4,
 "nbformat_minor": 2
}
