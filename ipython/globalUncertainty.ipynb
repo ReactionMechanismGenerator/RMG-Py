{
 "cells": [
  {
   "cell_type": "markdown",
   "metadata": {},
   "source": [
    "# Global Uncertainty Analysis: Polynomial Chaos Expansion (PCE) for Chemical Reaction Systems\n",
    "\n",
    "\n",
    "This ipython notebook uses MUQ as a basis for adaptive Polynomial Chaos Expansions to perform global uncertainty analysis for chemical reaction systems.  This ipython notebook details a workflow using RMG, Cantera, and MUQ codes.\n",
    "\n",
    "Muq binary only works on linux systems, please also add the ~/anaconda/envs/your_env/lib folder to your $PYTHONPATH to import muq smoothly."
   ]
  },
  {
   "cell_type": "code",
   "execution_count": null,
   "metadata": {},
   "outputs": [],
   "source": [
    "import random\n",
    "\n",
    "from rmgpy.tools.canteraModel import Cantera, getRMGSpeciesFromUserSpecies\n",
    "from rmgpy.species import Species\n",
    "from rmgpy.chemkin import loadChemkinFile\n",
    "from rmgpy.tools.muq import ReactorPCEFactory\n",
    "from rmgpy.tools.uncertainty import Uncertainty"
   ]
  },
  {
   "cell_type": "markdown",
   "metadata": {},
   "source": [
    "## Initial setup\n",
    "\n",
    "This section sets up everything needed to perform the global uncertainty analysis. This includes creating an instance of the Uncertainty class, loading the model to be analyzed, and setting up the Cantera reactor simulator."
   ]
  },
  {
   "cell_type": "code",
   "execution_count": null,
   "metadata": {},
   "outputs": [],
   "source": [
    "# Must use annotated chemkin file\n",
    "chemkinFile = './data/pdd_model/chem_annotated.inp'\n",
    "dictFile = './data/pdd_model/species_dictionary.txt'"
   ]
  },
  {
   "cell_type": "code",
   "execution_count": null,
   "metadata": {},
   "outputs": [],
   "source": [
    "# Set output directory (Note: Global uncertainty analysis doesn't actually write any output files currently)\n",
    "outputDirectory = './temp/uncertainty'"
   ]
  },
  {
   "cell_type": "code",
   "execution_count": null,
   "metadata": {},
   "outputs": [],
   "source": [
    "# Initialize the Uncertainty class instance and load the model\n",
    "uncertainty = Uncertainty(outputDirectory=outputDirectory)\n",
    "uncertainty.loadModel(chemkinFile, dictFile)"
   ]
  },
  {
   "cell_type": "code",
   "execution_count": null,
   "metadata": {},
   "outputs": [],
   "source": [
    "# Map the species to the objects within the Uncertainty class\n",
    "PDD = Species().fromSMILES(\"CCCCCCCCCCCCc1ccccc1\")\n",
    "C11ene=Species().fromSMILES(\"CCCCCCCCCC=C\")\n",
    "ETHBENZ=Species().fromSMILES(\"CCc1ccccc1\")\n",
    "mapping = getRMGSpeciesFromUserSpecies([PDD,C11ene,ETHBENZ], uncertainty.speciesList)\n",
    "\n",
    "# Define the reaction conditions\n",
    "reactorTypeList = ['IdealGasConstPressureTemperatureReactor']\n",
    "molFracList = [{mapping[PDD]: 1.0}]\n",
    "Tlist = ([623],'K')\n",
    "Plist = ([350],'bar')\n",
    "reactionTimeList = ([72], 'h')"
   ]
  },
  {
   "cell_type": "markdown",
   "metadata": {},
   "source": [
    "Global uncertainty analysis works by simulating the full model at random points within the uncertainty distributions of the input parameters. In the current implementation, the simulation is performed by Cantera, which we set up here using the RMG wrapper class."
   ]
  },
  {
   "cell_type": "code",
   "execution_count": null,
   "metadata": {},
   "outputs": [],
   "source": [
    "# Create the cantera model\n",
    "job = Cantera(speciesList=uncertainty.speciesList, reactionList=uncertainty.reactionList, outputDirectory=outputDirectory)\n",
    "# Load the cantera model based on the RMG reactions and species\n",
    "job.loadModel()\n",
    "# Generate the conditions based on the settings we declared earlier\n",
    "job.generateConditions(reactorTypeList, reactionTimeList, molFracList, Tlist, Plist)"
   ]
  },
  {
   "cell_type": "markdown",
   "metadata": {},
   "source": [
    "Next, we need to load the RMG-database into the Uncertainty instance which was created in order to extract the original sources for every estimated parameter in the model."
   ]
  },
  {
   "cell_type": "code",
   "execution_count": null,
   "metadata": {},
   "outputs": [],
   "source": [
    "uncertainty.loadDatabase(\n",
    "    thermoLibraries=['DFT_QCI_thermo', 'primaryThermoLibrary'],\n",
    "    kineticsFamilies='default',\n",
    "    reactionLibraries=[],\n",
    ")\n",
    "uncertainty.extractSourcesFromModel()"
   ]
  },
  {
   "cell_type": "markdown",
   "metadata": {},
   "source": [
    "## Part 1: Global uncertainty analysis for uncorrelated parameters"
   ]
  },
  {
   "cell_type": "code",
   "execution_count": null,
   "metadata": {},
   "outputs": [],
   "source": [
    "# Assign uncorrelated parameter uncertainties \n",
    "uncertainty.assignParameterUncertainties(correlated=False)"
   ]
  },
  {
   "cell_type": "markdown",
   "metadata": {},
   "source": [
    "Input a set of kinetic $(k)$ and thermo $(G)$ parameters to be propagated and their uncertainties $(\\Delta\\ln k, \\Delta G)$ into the `ReactorPCEFactory` class. These kinetic and thermo parameters should typically be pre-screened from local uncertainty analysis to narrow down to the most influential parameters.\n",
    "\n",
    "Parameter uncertainties are assigned the same way as for local uncertainty analysis and are provided directly from the `Uncertainty` instance.\n",
    "\n",
    "Random sampling from the uncertainty distributions of the input parameters is aided by a set uncertainty factors, $f$, calculated from the input uncertainties $(\\Delta\\ln k, \\Delta G)$, and a set of unit random variables, $\\xi$, sampled from a uniform distribution.\n",
    "\n",
    "For thermochemistry,\n",
    "\n",
    "$$f^G = G_{max} - G_0 = G_{0} - G_{min} = \\sqrt{3} \\Delta G$$\n",
    "\n",
    "$$G = \\xi f^G_{n} + G_{0}$$\n",
    "\n",
    "For kinetics,\n",
    "\n",
    "$$f^k = \\log_{10} \\left(\\frac{k_{max}}{k_0}\\right) = \\log_{10} \\left(\\frac{k_0}{k_{min}}\\right) = \\frac{\\sqrt{3}}{\\ln 10} \\Delta \\ln k$$\n",
    "\n",
    "$$k = 10^{\\xi f_{m}} k_{0}$$\n",
    "\n",
    "This allows calculation of a new parameter value given the nominal value, standard deviation, and the random variable.\n",
    "\n",
    "The MIT Uncertainty Quantification Library (MUQ) is used to perform the random sampling and construct a Polynomial Chaos Expansion (PCE) to fit the output variable of interest, mole fractions."
   ]
  },
  {
   "cell_type": "code",
   "execution_count": null,
   "metadata": {},
   "outputs": [],
   "source": [
    "# Choose input parameters to vary within their uncertainty bounds\n",
    "kParams = [28, 26]  # RMG indices of reactions to vary\n",
    "gParams = [1, 46]  # RMG indices of species to vary"
   ]
  },
  {
   "cell_type": "code",
   "execution_count": null,
   "metadata": {},
   "outputs": [],
   "source": [
    "# Create ReactorPCEFactory global uncertainty analysis object for the uncorrelated case\n",
    "reactorPCEFactory = ReactorPCEFactory(\n",
    "    cantera=job,\n",
    "    outputSpeciesList=[mapping[PDD], mapping[C11ene]],\n",
    "    kParams=kParams,\n",
    "    kUncertainty=uncertainty.kineticInputUncertainties,   \n",
    "    gParams=gParams,\n",
    "    gUncertainty=uncertainty.thermoInputUncertainties,\n",
    "    correlated=False,\n",
    ")"
   ]
  },
  {
   "cell_type": "markdown",
   "metadata": {},
   "source": [
    "Begin generating the PCEs adaptively based a runtime.\n",
    "\n",
    "There are actually three methods for generating PCEs. See the `ReactorPCEFactory.generatePCE` function for more details.\n",
    "\n",
    "- Option 1: Adaptive for a pre-specified amount of time\n",
    "- Option 2: Adaptively construct PCE to error tolerance\n",
    "- Option 3: Used a fixed order, and (optionally) adapt later.  "
   ]
  },
  {
   "cell_type": "code",
   "execution_count": null,
   "metadata": {},
   "outputs": [],
   "source": [
    "reactorPCEFactory.generatePCE(runTime=60)  # runtime of 60 seconds."
   ]
  },
  {
   "cell_type": "markdown",
   "metadata": {},
   "source": [
    "Let's compare the outputs for a test point using the real model versus using the PCE approximation.\n",
    "Evaluate the desired output mole fractions based on a set of inputs `ins = [[ln(k)_rv], [G_rv]]` which contains the \n",
    "random unit uniform variables attributed to the uncertain kinetics and free energy parameters, respectively."
   ]
  },
  {
   "cell_type": "code",
   "execution_count": null,
   "metadata": {},
   "outputs": [],
   "source": [
    "# Create a random test point of length = number of kParams + number of gParams\n",
    "randomTestPoint = [random.uniform(-1.0,1.0) for i in range(len(kParams)+len(gParams))]\n",
    "trueTestPointOutput, pceTestPointOutput = reactorPCEFactory.compareOutput(randomTestPoint, log=False)"
   ]
  },
  {
   "cell_type": "markdown",
   "metadata": {},
   "source": [
    "Obtain the results: the species mole fraction mean and variance computed from the PCE, as well as the global sensitivity indices."
   ]
  },
  {
   "cell_type": "code",
   "execution_count": null,
   "metadata": {},
   "outputs": [],
   "source": [
    "mean, variance, covariance, mainSens, totalSens = reactorPCEFactory.analyzeResults(log=False)"
   ]
  },
  {
   "cell_type": "markdown",
   "metadata": {},
   "source": [
    "## Part 2: Global uncertainty analysis of correlated parameters"
   ]
  },
  {
   "cell_type": "code",
   "execution_count": null,
   "metadata": {},
   "outputs": [],
   "source": [
    "uncertainty.assignParameterUncertainties(correlated=True)"
   ]
  },
  {
   "cell_type": "code",
   "execution_count": null,
   "metadata": {},
   "outputs": [],
   "source": [
    "kParams = [\n",
    "    'R_Addition_MultipleBond Cds-HH_Cds-Cs\\H3/H;CsJ-CsHH',\n",
    "    'Estimation BENZYL(58)+C11ene(46)=RAD3(16)',\n",
    "]\n",
    "gParams = [\n",
    "    'Estimation PDD(1)',\n",
    "    'Estimation C11ene(46)',\n",
    "]"
   ]
  },
  {
   "cell_type": "code",
   "execution_count": null,
   "metadata": {},
   "outputs": [],
   "source": [
    "reactorPCEFactoryCorrelated = ReactorPCEFactory(\n",
    "    cantera=job,\n",
    "    outputSpeciesList=[mapping[PDD], mapping[C11ene]],\n",
    "    kParams=kParams,\n",
    "    kUncertainty=uncertainty.kineticInputUncertainties,   \n",
    "    gParams=gParams,\n",
    "    gUncertainty=uncertainty.thermoInputUncertainties,\n",
    "    correlated=True   \n",
    ")"
   ]
  },
  {
   "cell_type": "markdown",
   "metadata": {},
   "source": [
    "Do the same analysis for the correlated `reactorPCEFactory`"
   ]
  },
  {
   "cell_type": "code",
   "execution_count": null,
   "metadata": {},
   "outputs": [],
   "source": [
    "reactorPCEFactoryCorrelated.generatePCE(runTime=60)  # runtime of 60 seconds."
   ]
  },
  {
   "cell_type": "code",
   "execution_count": null,
   "metadata": {},
   "outputs": [],
   "source": [
    "randomTestPoint = [random.uniform(-1.0,1.0) for i in range(len(kParams)+len(gParams))]\n",
    "trueTestPointOutput, pceTestPointOutput = reactorPCEFactoryCorrelated.compareOutput(randomTestPoint, log=False)"
   ]
  },
  {
   "cell_type": "code",
   "execution_count": null,
   "metadata": {},
   "outputs": [],
   "source": [
    "mean, variance, covariance, mainSens, totalSens = reactorPCEFactoryCorrelated.analyzeResults(log=False)"
   ]
  },
  {
   "cell_type": "code",
   "execution_count": null,
   "metadata": {},
   "outputs": [],
   "source": []
  }
 ],
 "metadata": {
  "kernelspec": {
   "display_name": "Python 2",
   "language": "python",
   "name": "python2"
  },
  "language_info": {
   "codemirror_mode": {
    "name": "ipython",
    "version": 2
   },
   "file_extension": ".py",
   "mimetype": "text/x-python",
   "name": "python",
   "nbconvert_exporter": "python",
   "pygments_lexer": "ipython2",
   "version": "2.7.15"
  }
 },
 "nbformat": 4,
 "nbformat_minor": 1
}
