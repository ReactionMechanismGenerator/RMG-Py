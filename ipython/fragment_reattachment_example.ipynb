{
 "cells": [
  {
   "cell_type": "markdown",
   "id": "d3349900",
   "metadata": {},
   "source": [
    "# Random Reattachment of Fragment Species from Automatic Fragment Modeling (AFM) Simulation Results\n",
    "AFM allows users to construct mechanisms for large molecules with RMG by breaking them up into two or more fragments. Running simulations with a fragment mechanism is much the same as any other mechanism. However, the species profiles obtained are for individual fragments that may be attached in many combinations. In this notebook, we give an example of random reattachment of fragments produced from polymer pyrolysis, which allows the user to obtain important observables such as molecular weight distribution or the approximate concentration of specific species composed of multiple fragments."
   ]
  },
  {
   "cell_type": "code",
   "execution_count": 1,
   "id": "285ac939-646d-46e6-a5b9-286661e1ad18",
   "metadata": {},
   "outputs": [],
   "source": [
    "from rmgpy.molecule.fragment import Fragment\n",
    "from rmgpy.tools.canteramodel import Cantera\n",
    "from rmgpy.chemkin import load_chemkin_file\n",
    "from rmgpy.molecule import fragment_utils as frag\n",
    "import os\n",
    "import numpy as np\n",
    "import matplotlib.pyplot as plt"
   ]
  },
  {
   "cell_type": "markdown",
   "id": "b310e4f2-7770-45d8-8b67-1dceb2ab85af",
   "metadata": {},
   "source": [
    "## 1. Set up the simulation...\n",
    "- load the mechanism\n"
   ]
  },
  {
   "cell_type": "code",
   "execution_count": 2,
   "id": "9d5bd8fb-2a97-487b-8cc2-e1349f5612e1",
   "metadata": {},
   "outputs": [],
   "source": [
    "working_dir = os.getcwd()\n",
    "chemkin_path = os.path.join(working_dir, 'data/chem_annotated.inp')\n",
    "species_dict_path = os.path.join(working_dir, 'data/species_dictionary.txt')\n",
    "results_path = os.path.join(working_dir, 'results')\n",
    "if not os.path.exists(results_path):\n",
    "    os.mkdir(results_path)\n",
    "species_list, reaction_list = load_chemkin_file(\n",
    "    chemkin_path, species_dict_path)\n",
    "species_dict = {}\n",
    "for i, spe in enumerate(species_list):\n",
    "    species_dict[spe.to_chemkin()] = spe"
   ]
  },
  {
   "cell_type": "markdown",
   "id": "49e23b51",
   "metadata": {},
   "source": [
    "- specify starting species and conditions\n"
   ]
  },
  {
   "cell_type": "code",
   "execution_count": 3,
   "id": "2f9f50fc-eba0-4156-8d87-1ed68294560d",
   "metadata": {},
   "outputs": [],
   "source": [
    "RC10L = species_dict['RC10L(1)']\n",
    "LC10 = species_dict['LC10(3)']\n",
    "RC10 = species_dict['RC10(2)']\n",
    "reactorTypeList = ['IdealGasConstPressureTemperatureReactor']\n",
    "molFracList = [{RC10: 1,\n",
    "                RC10L: 160,\n",
    "                LC10: 1}]\n",
    "Tlist = ([725.0], 'K')\n",
    "Plist = ([1.0], 'bar')\n",
    "# Vlist = ([1], 'm3')\n",
    "reactionTimeList = ([1], 'h')"
   ]
  },
  {
   "cell_type": "markdown",
   "id": "a028445f-cf98-4ccc-a9e0-bcaddf78ad23",
   "metadata": {},
   "source": [
    "- run the simulation"
   ]
  },
  {
   "cell_type": "code",
   "execution_count": 4,
   "id": "6d69f465-2eff-4549-b9af-9531d77de360",
   "metadata": {},
   "outputs": [
    {
     "name": "stderr",
     "output_type": "stream",
     "text": [
      "WARNING:root:Initial mole fractions do not sum to one; normalizing.\n"
     ]
    }
   ],
   "source": [
    "job = Cantera(species_list=species_list,\n",
    "              reaction_list=reaction_list, output_directory='temp_detailed')\n",
    "job.load_model()\n",
    "job.generate_conditions(reactor_type_list=reactorTypeList, reaction_time_list=reactionTimeList,\n",
    "                        mol_frac_list=molFracList, Tlist=Tlist, Plist=Plist)\n",
    "all_data = job.simulate()"
   ]
  },
  {
   "cell_type": "markdown",
   "id": "1f22f999-4324-4228-8f5c-6adda266c336",
   "metadata": {},
   "source": [
    "- get the simulation results"
   ]
  },
  {
   "cell_type": "code",
   "execution_count": 5,
   "id": "100d1e81-0c4a-499d-bb45-63ed17fc605c",
   "metadata": {},
   "outputs": [],
   "source": [
    "time, dataList, _, _ = all_data[0]\n",
    "T_data = np.array(dataList[0].data)\n",
    "P_data = np.array(dataList[1].data)\n",
    "V_data = np.array(dataList[2].data)\n",
    "total_moles = P_data/8.314/T_data\n",
    "total_moles_t0 = total_moles[0]\n",
    "total_moles_tf = total_moles[-1]\n",
    "T = Tlist[0][0]\n",
    "t = reactionTimeList[0][0]"
   ]
  },
  {
   "cell_type": "markdown",
   "id": "2c5024e4-e5b5-4e05-b6b2-c7156a743e68",
   "metadata": {},
   "source": [
    "## 2. Random Reattachment Procedure\n",
    "- make a list of tuples of each fragment species and its final concentration"
   ]
  },
  {
   "cell_type": "code",
   "execution_count": 6,
   "id": "2082ed31-adaf-4346-bcd2-9ff09666faed",
   "metadata": {},
   "outputs": [],
   "source": [
    "moles_dict = {}  # key: Chemkin name of fragments, value: moles of fragsments at t_final\n",
    "for i, mf in enumerate(dataList[6:]):\n",
    "    spe = species_dict[mf.label].smiles\n",
    "    moles_dict[spe] = max(mf.data[-1]*total_moles_tf, 0)\n",
    "frag_list = list(moles_dict.items())"
   ]
  },
  {
   "cell_type": "markdown",
   "id": "a07b1ad7-303e-49fb-a567-54644cff2bb0",
   "metadata": {},
   "source": [
    "- The following steps describe the role of each function in the `FragList` class.\n",
    "\n",
    "    1.  The `FragList` object is instantiated with the list of tuples made in the previous cell.\n",
    "\n",
    "    2.  The `FragList.sort()` function categorizes the fragments by the number of cutting labels.\n",
    "\n",
    "    3.  The `FragList.pair_CL4s()` function pairs fragments with 4 cutting labels with fragments with 1 cutting label to give fragments with 3 cutting labels.\n",
    "\n",
    "    4.  The `FragList.pair_CL3s()` function pairs fragments with 3 cutting labels with fragments with 1 cutting label to give fragments with 2 cutting labels (either RR, RL, or LL fragments).\n",
    "\n",
    "    5.  The `FragList.update_lists()` function adds any remainig fragments with one cutting label to a list of fragments with R cutting labels or a list of fragments with L cutting labels.\n",
    "\n",
    "    6.  The `FragList.grind_endcaps()` function divides the fragments with 1 cutting label into smaller concentrations (no larger than the `grindsize` variable) to maximize the number of combinations.\n",
    "\n",
    "    7.  The `FragList.pair_endcaps()` function pairs fragments with 2 of the same cutting label (e.g., LL and RR fragments) with a fragment with 1 cutting label. Then, each subconcentration of fragments with 1 R cutting label is randomly paired to a subconcentration of fragments with 1 L cutting label. These pairs will be the ends of the molecule.\n",
    "\n",
    "    8.  The `FragList.grind_middles()` function divides the remaining fragments with 2 cutting labels (only LR fragments) into smaller concentrations (no larger than the `grindsize` variable) to maximize the number of combinations. \n",
    "\n",
    "    9.  The `FragList.distribute_middles()` function loops through all LR fragments and randomly assigns them to an endcap pair from step 7.\n",
    "\n",
    "    10. the `FragList.get_mwd()` function plots the histogram of molecular weights of the reattached molecules generated in the previous steps and saves its data under the property `FragList.histdata`.\n",
    "    \n",
    "- Random reattachment will be repeated 3 times with a new random seed each time, which will allow us to examine the repeatability of reattachment.\n"
   ]
  },
  {
   "cell_type": "code",
   "execution_count": 11,
   "id": "ebe147a1-ad99-4320-8813-45b2141353f8",
   "metadata": {
    "tags": []
   },
   "outputs": [
    {
     "name": "stdout",
     "output_type": "stream",
     "text": [
      "grinding endcaps to 0.0009\n",
      "grinding middle pieces to 0.0009\n",
      "grinding endcaps to 0.0009\n",
      "grinding middle pieces to 0.0009\n",
      "grinding endcaps to 0.0009\n",
      "grinding middle pieces to 0.0009\n"
     ]
    },
    {
     "data": {
      "image/png": "[encoded data removed]",
      "text/plain": [
       "<Figure size 640x480 with 1 Axes>"
      ]
     },
     "metadata": {},
     "output_type": "display_data"
    }
   ],
   "source": [
    "%matplotlib inline\n",
    "hdl = []\n",
    "hdl = []\n",
    "for i in range(3):  \n",
    "    fl = frag.FragList(frag_list)\n",
    "    fl.reattach(grindsize=0.0009) # more stable if lower; may need to re-run to do successfully. \n",
    "    fl.get_mwd(bins=range(0, 501, 15))\n",
    "    hdl.append(fl.histdata)  # save histogram data for repeatability analysis\n",
    "\n"
   ]
  },
  {
   "cell_type": "markdown",
   "id": "becf89d3-7918-4aa1-bffb-008a530f2069",
   "metadata": {},
   "source": [
    "# 3. Analyze Data\n",
    "- Examine repeatability of random reattachment by overlaying the 10 random reattachment trials from above\n",
    "\n",
    "- Hint: If the repeatability is not satisfactory, try lowering the grindsize by an order of magnitude"
   ]
  },
  {
   "cell_type": "code",
   "execution_count": 12,
   "id": "83a0e056-66dd-4e79-b4b0-f6b74c518a58",
   "metadata": {},
   "outputs": [
    {
     "data": {
      "image/png": "[encoded data removed]",
      "text/plain": [
       "<Figure size 640x480 with 1 Axes>"
      ]
     },
     "metadata": {},
     "output_type": "display_data"
    }
   ],
   "source": [
    "for hd in hdl:\n",
    "    bins = hd[1]\n",
    "    counts = hd[0]\n",
    "    plt.hist(bins[:-1], bins, weights=counts, alpha=0.1, color='blue')"
   ]
  },
  {
   "cell_type": "markdown",
   "id": "b2c3d98a",
   "metadata": {},
   "source": [
    "- List the molecules with the highest concentrations"
   ]
  },
  {
   "cell_type": "code",
   "execution_count": null,
   "id": "c2b46571-b217-4962-9578-631740a17466",
   "metadata": {},
   "outputs": [],
   "source": [
    "results_dictionary = {}\n",
    "for fraglist, amt in fl.grouped:\n",
    "    fraglist = [Fragment().from_smiles_like_string(x) for x in fraglist]\n",
    "    if len(fraglist) == 1:\n",
    "        new = fraglist[0].smiles\n",
    "    elif len(fraglist) < 6:\n",
    "        new = frag.merge_frag_list(fraglist)[0].smiles\n",
    "    else:\n",
    "        new = 'miscillaneous large molecules'\n",
    "    if new in results_dictionary.keys():\n",
    "        results_dictionary[new] += amt\n",
    "    else:\n",
    "        results_dictionary[new] = amt\n",
    "sorted_rd = sorted(results_dictionary.items(), key=lambda x: x[1])[::-1]\n",
    "total = sum([x[1] for x in sorted_rd])\n",
    "print('species'.ljust(80), 'mole percent'.rjust(30))\n",
    "for x, y in sorted_rd:\n",
    "    print(str(x).ljust(80, '.') +\n",
    "          str(str(np.round(y/total*100, 2))+'%').rjust(30, '.'))"
   ]
  }
 ],
 "metadata": {
  "kernelspec": {
   "display_name": "Python 3 (ipykernel)",
   "language": "python",
   "name": "python3"
  },
  "language_info": {
   "codemirror_mode": {
    "name": "ipython",
    "version": 3
   },
   "file_extension": ".py",
   "mimetype": "text/x-python",
   "name": "python",
   "nbconvert_exporter": "python",
   "pygments_lexer": "ipython3",
   "version": "3.9.23"
  }
 },
 "nbformat": 4,
 "nbformat_minor": 5
}
