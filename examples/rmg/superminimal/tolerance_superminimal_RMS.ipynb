{
 "cells": [
  {
   "cell_type": "markdown",
   "id": "b1f80c5e",
   "metadata": {},
   "source": [
    "# Import packages\n",
    "Note: This notebook can take a while (~5 min) for the first time due to compilation"
   ]
  },
  {
   "cell_type": "code",
   "execution_count": 1,
   "id": "82bfbe9d",
   "metadata": {},
   "outputs": [],
   "source": [
    "from pyrms import rms\n",
    "from diffeqpy import de\n",
    "import numpy as np\n",
    "import matplotlib.pyplot as plt\n",
    "%matplotlib inline"
   ]
  },
  {
   "cell_type": "markdown",
   "id": "bf7d60c2",
   "metadata": {},
   "source": [
    "# Change simulation inputs here\n",
    "`mechanism_path`: path to the generated rms input file\n",
    "\n",
    "`initial_conds`: a dictionary containing the initial conditions, where\n",
    "- `T`: temperature (K)\n",
    "- `P`: pressure (Pa)\n",
    "- `H2`: number of moles of H2\n",
    "- `O2`: number of moles of O2\n",
    "\n",
    "`tspan`: the simulation time span ($t_0$, $t_f$) in second"
   ]
  },
  {
   "cell_type": "code",
   "execution_count": 2,
   "id": "4aed6687",
   "metadata": {},
   "outputs": [],
   "source": [
    "mechanism_path = \"rms/chem13.rms\"\n",
    "initial_conds = {\"T\": 1000.0, \"P\": 1.0e5, \"H2\": 0.67, \"O2\": 0.33}\n",
    "tspan = (0.0, 1.0)"
   ]
  },
  {
   "cell_type": "markdown",
   "id": "87400737",
   "metadata": {},
   "source": [
    "### Load the mechanism"
   ]
  },
  {
   "cell_type": "code",
   "execution_count": 3,
   "id": "d2f20f2e",
   "metadata": {},
   "outputs": [
    {
     "name": "stderr",
     "output_type": "stream",
     "text": [
      "RDKit WARNING: [20:27:05] WARNING: not removing hydrogen atom without neighbors\n",
      "[20:27:05] WARNING: not removing hydrogen atom without neighbors\n"
     ]
    }
   ],
   "source": [
    "phase_dict = rms.readinput(mechanism_path)\n",
    "spcs = phase_dict[\"phase\"][\"Species\"]\n",
    "rxns = phase_dict[\"phase\"][\"Reactions\"]"
   ]
  },
  {
   "cell_type": "markdown",
   "id": "760e040d",
   "metadata": {},
   "source": [
    "### Make the ideal gas phase\n",
    "Phase controls how the thermochemical and kinetic properties are calculated"
   ]
  },
  {
   "cell_type": "code",
   "execution_count": 4,
   "id": "4f19e662",
   "metadata": {},
   "outputs": [],
   "source": [
    "ig = rms.IdealGas(spcs, rxns, name=\"gas\")"
   ]
  },
  {
   "cell_type": "markdown",
   "id": "9ed7832c",
   "metadata": {},
   "source": [
    "### Set up the domain\n",
    "Domain controls the assumptions made in the simulation\n",
    "\n",
    "`ConstantVDomain`: assuming constant V"
   ]
  },
  {
   "cell_type": "code",
   "execution_count": 5,
   "id": "9f4eab3f",
   "metadata": {},
   "outputs": [],
   "source": [
    "domain, y0, p = rms.ConstantVDomain(phase=ig, initialconds=initial_conds)"
   ]
  },
  {
   "cell_type": "markdown",
   "id": "beff675f",
   "metadata": {},
   "source": [
    "### Set up the reactor"
   ]
  },
  {
   "cell_type": "code",
   "execution_count": 6,
   "id": "af2ff17b",
   "metadata": {},
   "outputs": [],
   "source": [
    "react = rms.Reactor(domain, y0, tspan, p=p)"
   ]
  },
  {
   "cell_type": "markdown",
   "id": "6b077cb1",
   "metadata": {},
   "source": [
    "### Solve the ODEs"
   ]
  },
  {
   "cell_type": "code",
   "execution_count": 26,
   "id": "051a8d03",
   "metadata": {},
   "outputs": [],
   "source": [
    "abstols = [1e-5, 1e-6, 1e-7, 1e-8, 1e-12, 1e-20]\n",
    "IDTs = []\n",
    "ts_search = np.linspace(0.44, 0.46, 10000)\n",
    "for abstol in abstols:\n",
    "    sol = de.solve(react.ode, de.CVODE_BDF(), abstol=abstol, reltol=1e-6)\n",
    "    IDT = ts_search[np.argmax(np.diff([sol(t)[domain.thermovariabledict[\"T\"]-1] for t in ts_search]))]\n",
    "    IDTs.append(IDT)"
   ]
  },
  {
   "cell_type": "markdown",
   "id": "c426403f",
   "metadata": {},
   "source": [
    "# Plot absolute tolerance vs. IDT"
   ]
  },
  {
   "cell_type": "code",
   "execution_count": 28,
   "id": "83a27c36",
   "metadata": {},
   "outputs": [
    {
     "data": {
      "text/plain": [
       "Text(0, 0.5, 'IDT (s)')"
      ]
     },
     "execution_count": 28,
     "metadata": {},
     "output_type": "execute_result"
    },
    {
     "data": {
      "image/png": "[encoded data removed]",
      "text/plain": [
       "<Figure size 640x480 with 1 Axes>"
      ]
     },
     "metadata": {},
     "output_type": "display_data"
    }
   ],
   "source": [
    "plt.figure()\n",
    "plt.scatter(abstols, IDTs)\n",
    "plt.xscale(\"log\")\n",
    "plt.xlabel(\"abstol\")\n",
    "plt.ylabel(\"IDT (s)\")"
   ]
  },
  {
   "cell_type": "code",
   "execution_count": null,
   "id": "b308f9f4",
   "metadata": {},
   "outputs": [],
   "source": []
  }
 ],
 "metadata": {
  "kernelspec": {
   "display_name": "Python 3 (ipykernel)",
   "language": "python",
   "name": "python3"
  },
  "language_info": {
   "codemirror_mode": {
    "name": "ipython",
    "version": 3
   },
   "file_extension": ".py",
   "mimetype": "text/x-python",
   "name": "python",
   "nbconvert_exporter": "python",
   "pygments_lexer": "ipython3",
   "version": "3.7.16"
  }
 },
 "nbformat": 4,
 "nbformat_minor": 5
}
