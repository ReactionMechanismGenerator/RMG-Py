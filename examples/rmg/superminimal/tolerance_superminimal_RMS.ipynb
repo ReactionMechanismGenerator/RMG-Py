{
 "cells": [
  {
   "cell_type": "markdown",
   "id": "b1f80c5e",
   "metadata": {},
   "source": [
    "# Import packages\n",
    "Note: This notebook can take a while (~5 min) for the first time due to compilation"
   ]
  },
  {
   "cell_type": "code",
   "execution_count": 1,
   "id": "82bfbe9d",
   "metadata": {},
   "outputs": [
    {
     "name": "stdout",
     "output_type": "stream",
     "text": [
      "Detected IPython. Loading juliacall extension. See https://juliapy.github.io/PythonCall.jl/stable/compat/#IPython\n"
     ]
    },
    {
     "name": "stderr",
     "output_type": "stream",
     "text": [
      "[ Info: Precompiling ReactionMechanismSimulator [c2d78dd2-25c4-5b79-bebc-be6c69dd440f]\n",
      "WARNING: Method definition getGibbs(P, N) where {N<:Number, P<:ReactionMechanismSimulator.AbstractThermo} in module ReactionMechanismSimulator at /Users/mjohns9/code/ReactionMechanismSimulator.jl/src/Calculators/Thermo.jl:6 overwritten on the same line (check for duplicate calls to `include`).\n",
      "ERROR: Method overwriting is not permitted during Module precompilation. Use `__precompile__(false)` to opt-out of precompilation.\n",
      "[ Info: Skipping precompilation since __precompile__(false). Importing ReactionMechanismSimulator [c2d78dd2-25c4-5b79-bebc-be6c69dd440f].\n",
      "┌ Warning: Replacing docs for `ReactionMechanismSimulator.getpairs :: Tuple{T} where T<:ReactionMechanismSimulator.AbstractReaction` in module `ReactionMechanismSimulator`\n",
      "└ @ Base.Docs docs/Docs.jl:243\n",
      "┌ Warning: Replacing docs for `ReactionMechanismSimulator.getsimilarity :: Union{Tuple{T2}, Tuple{T}, Tuple{T, T2}} where {T<:ReactionMechanismSimulator.AbstractSpecies, T2<:ReactionMechanismSimulator.AbstractSpecies}` in module `ReactionMechanismSimulator`\n",
      "└ @ Base.Docs docs/Docs.jl:243\n",
      "WARNING: method definition for getreactionindices at /Users/mjohns9/code/ReactionMechanismSimulator.jl/src/Phase.jl:320 declares type variable Q but does not use it.\n",
      "WARNING: method definition for Inlet at /Users/mjohns9/code/ReactionMechanismSimulator.jl/src/Interface.jl:243 declares type variable B but does not use it.\n",
      "WARNING: method definition for #ConstantTPDomain#328 at /Users/mjohns9/code/ReactionMechanismSimulator.jl/src/Domain.jl:42 declares type variable W but does not use it.\n",
      "WARNING: method definition for #ConstantTPDomain#328 at /Users/mjohns9/code/ReactionMechanismSimulator.jl/src/Domain.jl:42 declares type variable Q but does not use it.\n",
      "WARNING: method definition for #ConstantTPDomain#328 at /Users/mjohns9/code/ReactionMechanismSimulator.jl/src/Domain.jl:42 declares type variable E but does not use it.\n",
      "WARNING: method definition for #ConstantVDomain#339 at /Users/mjohns9/code/ReactionMechanismSimulator.jl/src/Domain.jl:120 declares type variable Q but does not use it.\n",
      "WARNING: method definition for #ConstantPDomain#348 at /Users/mjohns9/code/ReactionMechanismSimulator.jl/src/Domain.jl:188 declares type variable Q but does not use it.\n",
      "WARNING: method definition for #ParametrizedTPDomain#357 at /Users/mjohns9/code/ReactionMechanismSimulator.jl/src/Domain.jl:257 declares type variable Q but does not use it.\n",
      "WARNING: method definition for #ParametrizedVDomain#366 at /Users/mjohns9/code/ReactionMechanismSimulator.jl/src/Domain.jl:337 declares type variable Q but does not use it.\n",
      "WARNING: method definition for #ParametrizedVDomain#366 at /Users/mjohns9/code/ReactionMechanismSimulator.jl/src/Domain.jl:337 declares type variable E but does not use it.\n",
      "WARNING: method definition for #ParametrizedPDomain#375 at /Users/mjohns9/code/ReactionMechanismSimulator.jl/src/Domain.jl:414 declares type variable Q but does not use it.\n",
      "WARNING: method definition for #ParametrizedPDomain#375 at /Users/mjohns9/code/ReactionMechanismSimulator.jl/src/Domain.jl:414 declares type variable E but does not use it.\n",
      "WARNING: method definition for #ConstantTVDomain#384 at /Users/mjohns9/code/ReactionMechanismSimulator.jl/src/Domain.jl:500 declares type variable W but does not use it.\n",
      "WARNING: method definition for #ConstantTVDomain#384 at /Users/mjohns9/code/ReactionMechanismSimulator.jl/src/Domain.jl:500 declares type variable Q but does not use it.\n",
      "WARNING: method definition for #ParametrizedTConstantVDomain#395 at /Users/mjohns9/code/ReactionMechanismSimulator.jl/src/Domain.jl:580 declares type variable Q but does not use it.\n",
      "WARNING: method definition for #ConstantTAPhiDomain#404 at /Users/mjohns9/code/ReactionMechanismSimulator.jl/src/Domain.jl:660 declares type variable W but does not use it.\n",
      "WARNING: method definition for #ConstantTAPhiDomain#404 at /Users/mjohns9/code/ReactionMechanismSimulator.jl/src/Domain.jl:660 declares type variable E but does not use it.\n",
      "WARNING: method definition for #FragmentBasedConstantTrhoDomain#413 at /Users/mjohns9/code/ReactionMechanismSimulator.jl/src/Domain.jl:747 declares type variable X3 but does not use it.\n",
      "WARNING: method definition for #FragmentBasedConstantTrhoDomain#413 at /Users/mjohns9/code/ReactionMechanismSimulator.jl/src/Domain.jl:747 declares type variable E1 but does not use it.\n",
      "WARNING: method definition for #FragmentBasedConstantTrhoDomain#413 at /Users/mjohns9/code/ReactionMechanismSimulator.jl/src/Domain.jl:747 declares type variable X1 but does not use it.\n",
      "WARNING: method definition for #ConstantTLiqFilmDomain#422 at /Users/mjohns9/code/ReactionMechanismSimulator.jl/src/Domain.jl:848 declares type variable W but does not use it.\n",
      "WARNING: method definition for #ConstantTLiqFilmDomain#422 at /Users/mjohns9/code/ReactionMechanismSimulator.jl/src/Domain.jl:848 declares type variable Q but does not use it.\n",
      "WARNING: method definition for calcthermo at /Users/mjohns9/code/ReactionMechanismSimulator.jl/src/Domain.jl:1563 declares type variable J but does not use it.\n",
      "WARNING: method definition for calcthermo at /Users/mjohns9/code/ReactionMechanismSimulator.jl/src/Domain.jl:1635 declares type variable J but does not use it.\n",
      "WARNING: method definition for calcthermo at /Users/mjohns9/code/ReactionMechanismSimulator.jl/src/Domain.jl:1722 declares type variable J but does not use it.\n",
      "WARNING: method definition for calcthermo at /Users/mjohns9/code/ReactionMechanismSimulator.jl/src/Domain.jl:1801 declares type variable J but does not use it.\n",
      "WARNING: method definition for #calcdomainderivatives!#477 at /Users/mjohns9/code/ReactionMechanismSimulator.jl/src/Domain.jl:1839 declares type variable Y but does not use it.\n",
      "WARNING: method definition for #calcdomainderivatives!#477 at /Users/mjohns9/code/ReactionMechanismSimulator.jl/src/Domain.jl:1839 declares type variable W but does not use it.\n",
      "WARNING: method definition for #calcdomainderivatives!#478 at /Users/mjohns9/code/ReactionMechanismSimulator.jl/src/Domain.jl:1863 declares type variable Y but does not use it.\n",
      "WARNING: method definition for #calcdomainderivatives!#478 at /Users/mjohns9/code/ReactionMechanismSimulator.jl/src/Domain.jl:1863 declares type variable W but does not use it.\n",
      "WARNING: method definition for jacobianpnsderiv! at /Users/mjohns9/code/ReactionMechanismSimulator.jl/src/Domain.jl:3095 declares type variable Q3 but does not use it.\n",
      "WARNING: method definition for jacobianpnsderiv! at /Users/mjohns9/code/ReactionMechanismSimulator.jl/src/Domain.jl:3204 declares type variable Q3 but does not use it.\n",
      "WARNING: method definition for jacobianpnsderiv! at /Users/mjohns9/code/ReactionMechanismSimulator.jl/src/Domain.jl:3290 declares type variable Q3 but does not use it.\n",
      "[ Info: Precompiling Symbolics [0c5d862f-8b57-4792-8d23-62f2024744c7]\n",
      "WARNING: Method definition isapprox(IntervalSets.AbstractInterval{T} where T, IntervalSets.AbstractInterval{T} where T) in module IntervalSets at /Users/mjohns9/.julia/packages/IntervalSets/kyCuf/src/IntervalSets.jl:296 overwritten in module DomainSets at /Users/mjohns9/.julia/packages/DomainSets/aafhp/src/domains/interval.jl:52.\n",
      "ERROR: Method overwriting is not permitted during Module precompilation. Use `__precompile__(false)` to opt-out of precompilation.\n",
      "[ Info: Skipping precompilation since __precompile__(false). Importing Symbolics [0c5d862f-8b57-4792-8d23-62f2024744c7].\n",
      "[ Info: Precompiling DomainSets [5b8099bc-c8ec-5219-889f-1d9e522a28bf]\n",
      "WARNING: Method definition isapprox(IntervalSets.AbstractInterval{T} where T, IntervalSets.AbstractInterval{T} where T) in module IntervalSets at /Users/mjohns9/.julia/packages/IntervalSets/kyCuf/src/IntervalSets.jl:296 overwritten in module DomainSets at /Users/mjohns9/.julia/packages/DomainSets/aafhp/src/domains/interval.jl:52.\n",
      "ERROR: Method overwriting is not permitted during Module precompilation. Use `__precompile__(false)` to opt-out of precompilation.\n",
      "[ Info: Skipping precompilation since __precompile__(false). Importing DomainSets [5b8099bc-c8ec-5219-889f-1d9e522a28bf].\n",
      "[ Info: Precompiling ModelingToolkit [961ee093-0014-501f-94e3-6117800e7a78]\n",
      "┌ Warning: Module Symbolics with build ID ffffffff-ffff-ffff-aada-48ce8e1e7ff1 is missing from the cache.\n",
      "│ This may mean Symbolics [0c5d862f-8b57-4792-8d23-62f2024744c7] does not support precompilation but is imported by a module that does.\n",
      "└ @ Base loading.jl:2018\n",
      "[ Info: Skipping precompilation since __precompile__(false). Importing ModelingToolkit [961ee093-0014-501f-94e3-6117800e7a78].\n",
      "WARNING: method definition for #Reactor#612 at /Users/mjohns9/code/ReactionMechanismSimulator.jl/src/Reactor.jl:267 declares type variable F but does not use it.\n",
      "WARNING: method definition for addreactionratecontributions! at /Users/mjohns9/code/ReactionMechanismSimulator.jl/src/Reactor.jl:465 declares type variable T but does not use it.\n",
      "WARNING: method definition for addreactionratecontributions! at /Users/mjohns9/code/ReactionMechanismSimulator.jl/src/Reactor.jl:509 declares type variable W2 but does not use it.\n",
      "WARNING: method definition for addreactionratecontributions! at /Users/mjohns9/code/ReactionMechanismSimulator.jl/src/Reactor.jl:509 declares type variable T but does not use it.\n",
      "WARNING: method definition for addreactionratecontributions! at /Users/mjohns9/code/ReactionMechanismSimulator.jl/src/Reactor.jl:556 declares type variable T but does not use it.\n",
      "WARNING: method definition for addreactionratecontributionsforwardreverse! at /Users/mjohns9/code/ReactionMechanismSimulator.jl/src/Reactor.jl:601 declares type variable T but does not use it.\n",
      "WARNING: method definition for jacobianyforwarddiff at /Users/mjohns9/code/ReactionMechanismSimulator.jl/src/Reactor.jl:789 declares type variable Q but does not use it.\n",
      "WARNING: method definition for jacobianpforwarddiff at /Users/mjohns9/code/ReactionMechanismSimulator.jl/src/Reactor.jl:841 declares type variable Q but does not use it.\n",
      "[ Info: Precompiling SciMLSensitivity [1ed8b502-d754-442c-8d5d-10ac956f44a1]\n",
      "WARNING: Method definition (::ChainRulesCore.ProjectTo{var\"#s434\"<:(ChainRulesCore.Tangent{var\"#s433\", T} where T where var\"#s433\"<:Tuple), D<:(NamedTuple{names, T} where T<:Tuple where names)})(StaticArraysCore.SArray{S, T, N, L} where L where N where T where S<:Tuple) in module StaticArraysChainRulesCoreExt at /Users/mjohns9/.julia/packages/StaticArrays/MSJcA/ext/StaticArraysChainRulesCoreExt.jl:10 overwritten in module SciMLSensitivity at /Users/mjohns9/.julia/packages/SciMLSensitivity/VumeD/src/staticarrays.jl:2.\n",
      "ERROR: Method overwriting is not permitted during Module precompilation. Use `__precompile__(false)` to opt-out of precompilation.\n",
      "[ Info: Skipping precompilation since __precompile__(false). Importing SciMLSensitivity [1ed8b502-d754-442c-8d5d-10ac956f44a1].\n",
      "┌ Warning: MKL_jll is not available/installed.\n",
      "└ @ MKL ~/.julia/packages/MKL/kCNzy/src/MKL.jl:39\n",
      "WARNING: method definition for sensg at /Users/mjohns9/code/ReactionMechanismSimulator.jl/src/Simulation.jl:554 declares type variable V but does not use it.\n",
      "WARNING: method definition for sensg at /Users/mjohns9/code/ReactionMechanismSimulator.jl/src/Simulation.jl:554 declares type variable Q but does not use it.\n",
      "WARNING: method definition for sensg at /Users/mjohns9/code/ReactionMechanismSimulator.jl/src/Simulation.jl:560 declares type variable V but does not use it.\n",
      "WARNING: method definition for sensg at /Users/mjohns9/code/ReactionMechanismSimulator.jl/src/Simulation.jl:560 declares type variable Q but does not use it.\n",
      "WARNING: method definition for sensg at /Users/mjohns9/code/ReactionMechanismSimulator.jl/src/Simulation.jl:566 declares type variable V but does not use it.\n",
      "WARNING: method definition for sensg at /Users/mjohns9/code/ReactionMechanismSimulator.jl/src/Simulation.jl:566 declares type variable Q but does not use it.\n",
      "WARNING: method definition for sensg at /Users/mjohns9/code/ReactionMechanismSimulator.jl/src/Simulation.jl:572 declares type variable V but does not use it.\n",
      "WARNING: method definition for sensg at /Users/mjohns9/code/ReactionMechanismSimulator.jl/src/Simulation.jl:572 declares type variable Q but does not use it.\n",
      "WARNING: method definition for g at /Users/mjohns9/code/ReactionMechanismSimulator.jl/src/Simulation.jl:579 declares type variable V but does not use it.\n",
      "WARNING: method definition for g at /Users/mjohns9/code/ReactionMechanismSimulator.jl/src/Simulation.jl:579 declares type variable Q but does not use it.\n",
      "WARNING: method definition for g at /Users/mjohns9/code/ReactionMechanismSimulator.jl/src/Simulation.jl:583 declares type variable V but does not use it.\n",
      "WARNING: method definition for g at /Users/mjohns9/code/ReactionMechanismSimulator.jl/src/Simulation.jl:583 declares type variable Q but does not use it.\n",
      "WARNING: method definition for g at /Users/mjohns9/code/ReactionMechanismSimulator.jl/src/Simulation.jl:587 declares type variable V but does not use it.\n",
      "WARNING: method definition for g at /Users/mjohns9/code/ReactionMechanismSimulator.jl/src/Simulation.jl:587 declares type variable Q but does not use it.\n",
      "WARNING: method definition for g at /Users/mjohns9/code/ReactionMechanismSimulator.jl/src/Simulation.jl:591 declares type variable V but does not use it.\n",
      "WARNING: method definition for g at /Users/mjohns9/code/ReactionMechanismSimulator.jl/src/Simulation.jl:591 declares type variable Q but does not use it.\n",
      "WARNING: method definition for g at /Users/mjohns9/code/ReactionMechanismSimulator.jl/src/Simulation.jl:646 declares type variable V but does not use it.\n",
      "WARNING: method definition for g at /Users/mjohns9/code/ReactionMechanismSimulator.jl/src/Simulation.jl:646 declares type variable Q but does not use it.\n",
      "WARNING: method definition for g at /Users/mjohns9/code/ReactionMechanismSimulator.jl/src/Simulation.jl:650 declares type variable V but does not use it.\n",
      "WARNING: method definition for g at /Users/mjohns9/code/ReactionMechanismSimulator.jl/src/Simulation.jl:650 declares type variable Q but does not use it.\n",
      "WARNING: method definition for g at /Users/mjohns9/code/ReactionMechanismSimulator.jl/src/Simulation.jl:654 declares type variable V but does not use it.\n",
      "WARNING: method definition for g at /Users/mjohns9/code/ReactionMechanismSimulator.jl/src/Simulation.jl:654 declares type variable Q but does not use it.\n",
      "WARNING: method definition for g at /Users/mjohns9/code/ReactionMechanismSimulator.jl/src/Simulation.jl:658 declares type variable V but does not use it.\n",
      "WARNING: method definition for g at /Users/mjohns9/code/ReactionMechanismSimulator.jl/src/Simulation.jl:658 declares type variable Q but does not use it.\n",
      "┌ Warning: Replacing docs for `ReactionMechanismSimulator.plotrops :: Union{Tuple{X}, Tuple{Y}, Tuple{Y, X}} where {Y<:ReactionMechanismSimulator.Simulation, X<:AbstractString}` in module `ReactionMechanismSimulator`\n",
      "└ @ Base.Docs docs/Docs.jl:243\n",
      "┌ Warning: Replacing docs for `ReactionMechanismSimulator.plotrops :: Union{Tuple{X}, Tuple{Y}, Tuple{Y, X}} where {Y<:ReactionMechanismSimulator.Simulation, X<:AbstractString}` in module `ReactionMechanismSimulator`\n",
      "└ @ Base.Docs docs/Docs.jl:243\n",
      "WARNING: method definition for #plotradicalrops#942 at /Users/mjohns9/code/ReactionMechanismSimulator.jl/src/Plotting.jl:371 declares type variable X but does not use it.\n"
     ]
    }
   ],
   "source": [
    "from juliacall import Main as rms\n",
    "rms.seval(\"using PythonCall\")\n",
    "rms.seval(\"using ReactionMechanismSimulator\")\n",
    "rms.seval(\"using ReactionMechanismSimulator.Sundials\")\n",
    "from rmgpy.rmg.reactionmechanismsimulator_reactors import to_julia\n",
    "import numpy as np\n",
    "import matplotlib.pyplot as plt\n",
    "%matplotlib inline"
   ]
  },
  {
   "cell_type": "markdown",
   "id": "bf7d60c2",
   "metadata": {},
   "source": [
    "# Change simulation inputs here\n",
    "`mechanism_path`: path to the generated rms input file\n",
    "\n",
    "`initial_conds`: a dictionary containing the initial conditions, where\n",
    "- `T`: temperature (K)\n",
    "- `P`: pressure (Pa)\n",
    "- `H2`: number of moles of H2\n",
    "- `O2`: number of moles of O2\n",
    "\n",
    "`tspan`: the simulation time span ($t_0$, $t_f$) in second"
   ]
  },
  {
   "cell_type": "code",
   "execution_count": 2,
   "id": "4aed6687",
   "metadata": {},
   "outputs": [],
   "source": [
    "mechanism_path = \"rms/chem13.rms\"\n",
    "initial_conds = {\"T\": 1000.0, \"P\": 1.0e5, \"H2\": 0.67, \"O2\": 0.33}\n",
    "tspan = (0.0, 1.0)"
   ]
  },
  {
   "cell_type": "markdown",
   "id": "87400737",
   "metadata": {},
   "source": [
    "### Load the mechanism"
   ]
  },
  {
   "cell_type": "code",
   "execution_count": 3,
   "id": "d2f20f2e",
   "metadata": {},
   "outputs": [
    {
     "name": "stderr",
     "output_type": "stream",
     "text": [
      "[22:40:45] WARNING: not removing hydrogen atom without neighbors\n"
     ]
    }
   ],
   "source": [
    "phase_dict = rms.readinput(mechanism_path)\n",
    "spcs = phase_dict[\"phase\"][\"Species\"]\n",
    "rxns = phase_dict[\"phase\"][\"Reactions\"]"
   ]
  },
  {
   "cell_type": "markdown",
   "id": "760e040d",
   "metadata": {},
   "source": [
    "### Make the ideal gas phase\n",
    "Phase controls how the thermochemical and kinetic properties are calculated"
   ]
  },
  {
   "cell_type": "code",
   "execution_count": 4,
   "id": "4f19e662",
   "metadata": {},
   "outputs": [],
   "source": [
    "ig = rms.IdealGas(spcs, rxns, name=\"gas\")"
   ]
  },
  {
   "cell_type": "markdown",
   "id": "9ed7832c",
   "metadata": {},
   "source": [
    "### Set up the domain\n",
    "Domain controls the assumptions made in the simulation\n",
    "\n",
    "`ConstantVDomain`: assuming constant V"
   ]
  },
  {
   "cell_type": "code",
   "execution_count": 5,
   "id": "9f4eab3f",
   "metadata": {},
   "outputs": [],
   "source": [
    "domain, y0, p = rms.ConstantVDomain(phase=ig, initialconds=to_julia(initial_conds))"
   ]
  },
  {
   "cell_type": "markdown",
   "id": "beff675f",
   "metadata": {},
   "source": [
    "### Set up the reactor"
   ]
  },
  {
   "cell_type": "code",
   "execution_count": 6,
   "id": "af2ff17b",
   "metadata": {},
   "outputs": [],
   "source": [
    "react = rms.Reactor(domain, y0, tspan, p=p)"
   ]
  },
  {
   "cell_type": "markdown",
   "id": "6b077cb1",
   "metadata": {},
   "source": [
    "### Solve the ODEs"
   ]
  },
  {
   "cell_type": "code",
   "execution_count": 7,
   "id": "051a8d03",
   "metadata": {},
   "outputs": [],
   "source": [
    "abstols = [1e-5, 1e-6, 1e-7, 1e-8, 1e-12, 1e-20]\n",
    "IDTs = []\n",
    "ts_search = np.linspace(0.44, 0.46, 10000)\n",
    "for abstol in abstols:\n",
    "    sol = rms.solve(react.ode, rms.CVODE_BDF(), abstol=abstol, reltol=1e-6)\n",
    "    IDT = ts_search[np.argmax(np.diff([sol(t)[domain.thermovariabledict[\"T\"]-1] for t in ts_search]))]\n",
    "    IDTs.append(IDT)"
   ]
  },
  {
   "cell_type": "markdown",
   "id": "c426403f",
   "metadata": {},
   "source": [
    "# Plot absolute tolerance vs. IDT"
   ]
  },
  {
   "cell_type": "code",
   "execution_count": 8,
   "id": "83a27c36",
   "metadata": {},
   "outputs": [
    {
     "data": {
      "text/plain": [
       "Text(0, 0.5, 'IDT (s)')"
      ]
     },
     "execution_count": 8,
     "metadata": {},
     "output_type": "execute_result"
    },
    {
     "data": {
      "image/png": "[encoded data removed]",
      "text/plain": [
       "<Figure size 640x480 with 1 Axes>"
      ]
     },
     "metadata": {},
     "output_type": "display_data"
    }
   ],
   "source": [
    "plt.figure()\n",
    "plt.scatter(abstols, IDTs)\n",
    "plt.xscale(\"log\")\n",
    "plt.xlabel(\"abstol\")\n",
    "plt.ylabel(\"IDT (s)\")"
   ]
  },
  {
   "cell_type": "code",
   "execution_count": null,
   "id": "b308f9f4",
   "metadata": {},
   "outputs": [],
   "source": []
  }
 ],
 "metadata": {
  "kernelspec": {
   "display_name": "Python 3 (ipykernel)",
   "language": "python",
   "name": "python3"
  },
  "language_info": {
   "codemirror_mode": {
    "name": "ipython",
    "version": 3
   },
   "file_extension": ".py",
   "mimetype": "text/x-python",
   "name": "python",
   "nbconvert_exporter": "python",
   "pygments_lexer": "ipython3",
   "version": "3.9.23"
  }
 },
 "nbformat": 4,
 "nbformat_minor": 5
}
